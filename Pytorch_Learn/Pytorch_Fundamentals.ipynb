{
 "cells": [
  {
   "cell_type": "code",
   "execution_count": 2,
   "metadata": {},
   "outputs": [],
   "source": [
    "%matplotlib inline\n",
    "import torch\n",
    "import numpy as np"
   ]
  },
  {
   "cell_type": "code",
   "execution_count": 1,
   "metadata": {},
   "outputs": [
    {
     "ename": "NameError",
     "evalue": "name 'torch' is not defined",
     "output_type": "error",
     "traceback": [
      "\u001b[1;31m---------------------------------------------------------------------------\u001b[0m",
      "\u001b[1;31mNameError\u001b[0m                                 Traceback (most recent call last)",
      "Cell \u001b[1;32mIn[1], line 5\u001b[0m\n\u001b[0;32m      1\u001b[0m data \u001b[38;5;241m=\u001b[39m [\n\u001b[0;32m      2\u001b[0m [\u001b[38;5;241m1\u001b[39m,\u001b[38;5;241m2\u001b[39m],\n\u001b[0;32m      3\u001b[0m [\u001b[38;5;241m3\u001b[39m,\u001b[38;5;241m4\u001b[39m]\n\u001b[0;32m      4\u001b[0m ]\n\u001b[1;32m----> 5\u001b[0m x_data \u001b[38;5;241m=\u001b[39m \u001b[43mtorch\u001b[49m\u001b[38;5;241m.\u001b[39mtensor(data)\n\u001b[0;32m      6\u001b[0m \u001b[38;5;28mprint\u001b[39m(x_data)\n",
      "\u001b[1;31mNameError\u001b[0m: name 'torch' is not defined"
     ]
    }
   ],
   "source": [
    "data = [\n",
    "[1,2],\n",
    "[3,4]\n",
    "]\n",
    "x_data = torch.tensor(data)\n",
    "print(x_data)"
   ]
  },
  {
   "cell_type": "code",
   "execution_count": 9,
   "metadata": {},
   "outputs": [
    {
     "name": "stdout",
     "output_type": "stream",
     "text": [
      "[[1 2]\n",
      " [3 4]] \n",
      "\n",
      "tensor([[1, 2],\n",
      "        [3, 4]], dtype=torch.int32) \n",
      "\n",
      "[[2 4]\n",
      " [6 8]] \n",
      "\n",
      "tensor([[2, 4],\n",
      "        [6, 8]], dtype=torch.int32) \n",
      "\n"
     ]
    }
   ],
   "source": [
    "np_array = np.array(data)\n",
    "x_np = torch.from_numpy(np_array)\n",
    "print(np_array,'\\n')\n",
    "print(x_np,'\\n')\n",
    "\n",
    "np.multiply(np_array, 2, out=np_array)\n",
    "print(np_array,'\\n')\n",
    "print(x_np,'\\n')\n"
   ]
  },
  {
   "cell_type": "code",
   "execution_count": 11,
   "metadata": {},
   "outputs": [
    {
     "name": "stdout",
     "output_type": "stream",
     "text": [
      "tensor([[1, 1],\n",
      "        [1, 1]]) \n",
      "\n",
      "tensor([[0.5967, 0.5600],\n",
      "        [0.0504, 0.2326]]) \n",
      "\n"
     ]
    }
   ],
   "source": [
    "x_ones = torch.ones_like(x_data)\n",
    "print(x_ones,'\\n')\n",
    "\n",
    "x_rand = torch.rand_like(x_data, dtype=torch.float)\n",
    "print(x_rand,'\\n')"
   ]
  },
  {
   "cell_type": "code",
   "execution_count": 12,
   "metadata": {},
   "outputs": [
    {
     "name": "stdout",
     "output_type": "stream",
     "text": [
      "Shape of tensor: torch.Size([3, 4])\n",
      "Datatype of tensor: torch.float32\n",
      "Device tensor is stored on: cpu\n"
     ]
    }
   ],
   "source": [
    "tensor = torch.rand(3,4)\n",
    "\n",
    "print(f\"Shape of tensor: {tensor.shape}\")\n",
    "print(f\"Datatype of tensor: {tensor.dtype}\")\n",
    "print(f\"Device tensor is stored on: {tensor.device}\")"
   ]
  },
  {
   "cell_type": "code",
   "execution_count": 13,
   "metadata": {},
   "outputs": [],
   "source": [
    "# We move our tensor to the GPU if available\n",
    "if torch.cuda.is_available():\n",
    "  tensor = tensor.to('cuda')"
   ]
  },
  {
   "cell_type": "code",
   "execution_count": 14,
   "metadata": {},
   "outputs": [
    {
     "name": "stdout",
     "output_type": "stream",
     "text": [
      "First row:  tensor([0.6268, 0.2532, 0.8246, 0.1498])\n",
      "First column:  tensor([0.6268, 0.4847, 0.2527, 0.8909])\n",
      "Last column: tensor([0.1498, 0.4784, 0.2814, 0.1677])\n",
      "tensor([[0.6268, 0.0000, 0.8246, 0.1498],\n",
      "        [0.4847, 0.0000, 0.9329, 0.4784],\n",
      "        [0.2527, 0.0000, 0.5632, 0.2814],\n",
      "        [0.8909, 0.0000, 0.8913, 0.1677]])\n"
     ]
    }
   ],
   "source": [
    "tensor = torch.rand(4, 4)\n",
    "print('First row: ',tensor[0])\n",
    "print('First column: ', tensor[:, 0])\n",
    "print('Last column:', tensor[..., -1])\n",
    "tensor[:,1] = 0\n",
    "print(tensor)"
   ]
  },
  {
   "cell_type": "code",
   "execution_count": 17,
   "metadata": {},
   "outputs": [
    {
     "name": "stdout",
     "output_type": "stream",
     "text": [
      "tensor([[0.6268, 0.0000, 0.8246, 0.1498, 0.6268, 0.0000, 0.8246, 0.1498, 0.6268,\n",
      "         0.0000, 0.8246, 0.1498],\n",
      "        [0.4847, 0.0000, 0.9329, 0.4784, 0.4847, 0.0000, 0.9329, 0.4784, 0.4847,\n",
      "         0.0000, 0.9329, 0.4784],\n",
      "        [0.2527, 0.0000, 0.5632, 0.2814, 0.2527, 0.0000, 0.5632, 0.2814, 0.2527,\n",
      "         0.0000, 0.5632, 0.2814],\n",
      "        [0.8909, 0.0000, 0.8913, 0.1677, 0.8909, 0.0000, 0.8913, 0.1677, 0.8909,\n",
      "         0.0000, 0.8913, 0.1677]])\n"
     ]
    }
   ],
   "source": [
    "t1 = torch.cat([tensor,tensor,tensor],dim=1)\n",
    "print(t1)"
   ]
  },
  {
   "cell_type": "code",
   "execution_count": 18,
   "metadata": {},
   "outputs": [
    {
     "data": {
      "text/plain": [
       "tensor([[0.3929, 0.0000, 0.6799, 0.0224],\n",
       "        [0.2350, 0.0000, 0.8703, 0.2288],\n",
       "        [0.0639, 0.0000, 0.3172, 0.0792],\n",
       "        [0.7937, 0.0000, 0.7944, 0.0281]])"
      ]
     },
     "execution_count": 18,
     "metadata": {},
     "output_type": "execute_result"
    }
   ],
   "source": [
    "# 计算两个张量的矩阵乘法，y1, y2, y3 将具有相同的值\n",
    "y1 = tensor @ tensor.T  # 使用 @ 符号进行矩阵乘法运算\n",
    "y2 = tensor.matmul(tensor.T)  # 使用 matmul 方法进行矩阵乘法运算\n",
    "\n",
    "y3 = torch.rand_like(tensor)  # 创建与给定张量相同大小的随机张量\n",
    "torch.matmul(tensor, tensor.T, out=y3)  # 将矩阵乘法的结果存储在预先分配的输出张量中\n",
    "\n",
    "\n",
    "# 计算两个张量的按元素乘积，z1, z2, z3 将具有相同的值\n",
    "z1 = tensor * tensor  # 使用 * 符号进行按元素乘积运算\n",
    "z2 = tensor.mul(tensor)  # 使用 mul 方法进行按元素乘积运算\n",
    "\n",
    "z3 = torch.rand_like(tensor)  # 创建与给定张量相同大小的随机张量\n",
    "torch.mul(tensor, tensor, out=z3)  # 将按元素乘积的结果存储在预先分配的输出张量中"
   ]
  },
  {
   "cell_type": "code",
   "execution_count": null,
   "metadata": {},
   "outputs": [],
   "source": []
  }
 ],
 "metadata": {
  "kernelspec": {
   "display_name": "mytorch",
   "language": "python",
   "name": "python3"
  },
  "language_info": {
   "codemirror_mode": {
    "name": "ipython",
    "version": 3
   },
   "file_extension": ".py",
   "mimetype": "text/x-python",
   "name": "python",
   "nbconvert_exporter": "python",
   "pygments_lexer": "ipython3",
   "version": "3.10.13"
  }
 },
 "nbformat": 4,
 "nbformat_minor": 2
}
