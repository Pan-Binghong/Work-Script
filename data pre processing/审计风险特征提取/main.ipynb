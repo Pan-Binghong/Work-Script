{
 "cells": [
  {
   "cell_type": "markdown",
   "metadata": {},
   "source": [
    "### <b>计算风险溢价</b>"
   ]
  },
  {
   "cell_type": "code",
   "execution_count": null,
   "metadata": {},
   "outputs": [],
   "source": [
    "# 过滤警告\n",
    "import warnings\n",
    "warnings.filterwarnings('ignore')"
   ]
  },
  {
   "cell_type": "code",
   "execution_count": null,
   "metadata": {},
   "outputs": [],
   "source": [
    "import pandas as pd\n",
    "import numpy as np\n",
    "import matplotlib.pyplot as plt\n",
    "import time\n",
    "import sys\n",
    "from tqdm import tqdm\n",
    "plt.rcParams['font.sans-serif'] = ['SimHei'] #正常显示中文标签\n",
    "plt.rcParams['axes.unicode_minus'] = False #解决负号显示为方块的问题"
   ]
  },
  {
   "cell_type": "markdown",
   "metadata": {},
   "source": [
    "### 数据清洗"
   ]
  },
  {
   "cell_type": "code",
   "execution_count": null,
   "metadata": {},
   "outputs": [],
   "source": [
    "# 数据清洗\n",
    "print('数据清洗')\n",
    "Bndinfo = pd.read_excel('BND_Bndinfo.xlsx')\n",
    "# 增加进度条\n",
    "for i in tqdm(range(int(9e6))):\n",
    "    pass\n",
    "\n",
    "# 筛选出A股上市公司债券\n",
    "Bndinfo  = Bndinfo.dropna(subset=['发行人股票代码'])\n",
    "# 添加上市公司证券代码\n",
    "Bndinfo['发行人股票代码'] = Bndinfo['发行人股票代码'].astype(int) # 去掉小数点\n",
    "Bndinfo['市场代码'] = Bndinfo['发行人股票代码'].astype(str)\n",
    "Bndinfo['市场代码'] = Bndinfo['市场代码'].str.zfill(6)\n",
    "# 提取year\n",
    "Bndinfo['年份'] = pd.to_datetime(Bndinfo['上市日期']).dt.year\n",
    "Bndinfo = Bndinfo[['年份','债券代码','债券简称','市场代码','期限']]\n",
    "Bndinfo.groupby(['年份','市场代码'])['债券代码'].count().mean()\n",
    "\n",
    "# 重复样本的处理\n",
    "print('重复样本的处理')\n",
    "# 增加进度条\n",
    "for i in tqdm(range(int(5e6))):\n",
    "    pass\n",
    "# 为数据集中的每个观测值生成一个介于0和1之间的随机数\n",
    "Bndinfo['rand'] = np.random.rand(len(Bndinfo))\n",
    "# 计算每个组中的最大随机数\n",
    "Bndinfo['max'] = Bndinfo.groupby(['市场代码', '年份'])['rand'].transform('max')\n",
    "# 保留只有最大随机数的观测值\n",
    "Bndinfo = Bndinfo[Bndinfo['max'] == Bndinfo['rand']]\n",
    "# 删除不再需要的列\n",
    "Bndinfo = Bndinfo.drop(['max', 'rand'], axis=1)\n",
    "\n",
    "print('数据清洗完毕')\n",
    "\n",
    "\n",
    "# 提取 \"Term\" 列\n",
    "Term = Bndinfo[['年份','期限']]\n",
    "# 删除重复观测值\n",
    "Term = Term.drop_duplicates()\n",
    "# 按照 \"Term\" 列进行排序\n",
    "Term = Term.sort_values('期限')\n",
    "Term = Term.dropna()"
   ]
  },
  {
   "cell_type": "markdown",
   "metadata": {},
   "source": [
    "## 国债收益率插值计算"
   ]
  },
  {
   "cell_type": "code",
   "execution_count": null,
   "metadata": {},
   "outputs": [],
   "source": [
    "# 现有期限数据处理\n",
    "print('处理现有期限数据...')\n",
    "TreasYield = pd.read_excel(r'BND_TreasYield.xlsx')\n",
    "TreasYield['日期'] = pd.to_datetime(TreasYield['日期'])\n",
    "TreasYield['年份'] = TreasYield['日期'].dt.year\n",
    "# 处理重复债券\n",
    "TreasYield['max'] = TreasYield.groupby(['收益率曲线类型', '年份'])['日期'].transform('max')\n",
    "TreasYield = TreasYield[TreasYield['日期'] == TreasYield['max']]\n",
    "del TreasYield['max']\n",
    "del TreasYield['日期']\n",
    "TreasYield = TreasYield.rename(columns={'剩余年限':'收益率(%)'})\n",
    "\n",
    "# 插值\n",
    "print('插值中...')\n",
    "# 每个截面上需要的期限和已有期限数据进行合并\n",
    "Term = pd.merge(Term, TreasYield, on=['年份','收益率(%)'], how='left', sort=True)\n",
    "# 分组插值计算\n",
    "Term['Yield_1'] = Term.groupby('收益率(%)')['Yield'].transform(lambda x: x.interpolate(method='linear'))\n",
    "Term['Yield_2'] = Term.groupby('年份')['Yield_1'].transform(lambda x: x.interpolate(method='linear'))\n",
    "# 保留所需的列\n",
    "Term = Term[['年份', '收益率(%)', 'Yield_2']]\n",
    "# 将小于等于0的值替换为缺失值\n",
    "Term.loc[Term['Yield_2'] <= 0, 'Yield_2'] = pd.NA\n",
    "# 删除重复观测值\n",
    "Term = Term.drop_duplicates(subset=['年份', '收益率(%)'], keep='first')\n",
    "# 重命名列\n",
    "Term = Term.rename(columns={'Yield_2': 'Treasury'})\n",
    "# 缺失值以组内最小值填充\n",
    "Term['Treasury'] = Term.groupby('年份')['Treasury'].transform(lambda x: x.fillna(x.min()))\n",
    "print('差值处理完成！')\n",
    "\n",
    "\n"
   ]
  },
  {
   "cell_type": "markdown",
   "metadata": {},
   "source": [
    "### 债券年交易数据处理与到期收益率计算"
   ]
  },
  {
   "cell_type": "code",
   "execution_count": null,
   "metadata": {},
   "outputs": [],
   "source": [
    "Tradeinfo = pd.read_excel(r'BND_Bndyt.xlsx')\n",
    "Tradeinfo = Tradeinfo.rename(columns={'交易年份':'年份'})\n",
    "# 删除重复观测值\n",
    "Tradeinfo = Tradeinfo.drop_duplicates(subset=[\"债券代码\", \"年份\"], keep=\"first\")\n",
    "Tradeinfo = Tradeinfo[['债券代码','年份','年收盘日到期收益率(%)']] # Clsyield：收盘日到期收益率\n",
    "# 数据类型转换，以便合并\n",
    "Tradeinfo['债券代码'] = Tradeinfo['债券代码'].astype(str)\n",
    "# 与债券基本情况数据合并\n",
    "df = pd.merge(Bndinfo, Tradeinfo, on=['债券代码','年份'], how='left', sort=True)\n",
    "df = df[df['年份']>=2010]\n",
    "\n",
    "### <b>债券信用利差计算</b>\n",
    "#  截尾操作\n",
    "df['YTM_1'] = df['年收盘日到期收益率(%)'].clip(lower=np.percentile(df['年收盘日到期收益率(%)'], 1))\n",
    "# 替换小于等于0的值为缺失值\n",
    "df.loc[df['YTM_1'] <= 0, 'YTM_1'] = np.nan\n",
    "# 计算每个组的均值\n",
    "df['YTM_2'] = df.groupby('债券代码')['YTM_1'].transform('mean')\n",
    "df['YTM_3'] = df.groupby('交易市场代码')['YTM_2'].transform('mean')\n",
    "df['YTM_4'] = df.groupby('年份')['YTM_3'].transform('mean')\n",
    "# 创建新变量并填充缺失值\n",
    "df['YTM'] = np.nan\n",
    "for x in range(1, 5):\n",
    "    df.loc[df['YTM'].isnull(), 'YTM'] = df[f'YTM_{x}']\n",
    "df = df[['债券代码','年份','债券简称','交易市场代码','收益率(%)','YTM']]\n",
    "# 合并国债收益率插值结果\n",
    "df = pd.merge(df, Term, on=['收益率(%)','年份'], how='left', sort=True)\n",
    "# 作差计算CS\n",
    "df['CS'] = df['YTM'] - df['Treasury']\n",
    "# 负值和零值处理（组内最小值填充）\n",
    "df.loc[df['CS'] <= 0, 'CS'] = np.nan\n",
    "df['CS'] = df.groupby('年份')['CS'].transform(lambda x: x.fillna(x.min()))"
   ]
  },
  {
   "cell_type": "markdown",
   "metadata": {},
   "source": []
  }
 ],
 "metadata": {
  "kernelspec": {
   "display_name": "work",
   "language": "python",
   "name": "python3"
  },
  "language_info": {
   "codemirror_mode": {
    "name": "ipython",
    "version": 3
   },
   "file_extension": ".py",
   "mimetype": "text/x-python",
   "name": "python",
   "nbconvert_exporter": "python",
   "pygments_lexer": "ipython3",
   "version": "3.7.3"
  }
 },
 "nbformat": 4,
 "nbformat_minor": 2
}
