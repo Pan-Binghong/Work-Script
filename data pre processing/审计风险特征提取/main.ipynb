{
 "cells": [
  {
   "cell_type": "markdown",
   "metadata": {},
   "source": [
    "### <b>计算风险溢价</b>"
   ]
  },
  {
   "cell_type": "code",
   "execution_count": 11,
   "metadata": {},
   "outputs": [],
   "source": [
    "# 过滤警告\n",
    "import warnings\n",
    "warnings.filterwarnings('ignore')"
   ]
  },
  {
   "cell_type": "code",
   "execution_count": 12,
   "metadata": {},
   "outputs": [],
   "source": [
    "import pandas as pd\n",
    "import numpy as np\n",
    "import matplotlib.pyplot as plt\n",
    "import time\n",
    "import sys\n",
    "from tqdm import tqdm\n",
    "plt.rcParams['font.sans-serif'] = ['SimHei'] #正常显示中文标签\n",
    "plt.rcParams['axes.unicode_minus'] = False #解决负号显示为方块的问题"
   ]
  },
  {
   "cell_type": "markdown",
   "metadata": {},
   "source": [
    "### 数据清洗"
   ]
  },
  {
   "cell_type": "code",
   "execution_count": 13,
   "metadata": {},
   "outputs": [
    {
     "name": "stdout",
     "output_type": "stream",
     "text": [
      "数据清洗\n"
     ]
    },
    {
     "name": "stderr",
     "output_type": "stream",
     "text": [
      "100%|██████████| 9000000/9000000 [00:01<00:00, 6766622.92it/s]\n"
     ]
    },
    {
     "name": "stdout",
     "output_type": "stream",
     "text": [
      "重复样本的处理\n"
     ]
    },
    {
     "name": "stderr",
     "output_type": "stream",
     "text": [
      "100%|██████████| 5000000/5000000 [00:00<00:00, 7464824.08it/s]\n"
     ]
    },
    {
     "name": "stdout",
     "output_type": "stream",
     "text": [
      "数据清洗完毕\n",
      "        年份      债券代码          债券简称    市场代码    期限\n",
      "0     2014  11403002   14中石化SCP002  600028  0.08\n",
      "14    2014  11412003    14华能SCP003  600011  0.75\n",
      "21    2014  11416004   14华电股SCP004  600027  0.75\n",
      "26    2014  11419008    14国电SCP008  600795  0.75\n",
      "27    2014  11420007    14中铝SCP007  601600  0.75\n",
      "...    ...       ...           ...     ...   ...\n",
      "2498  2016  11698854  16兖州煤业SCP007  600188  0.75\n",
      "2499  2016  11698855  16海翔药业SCP001  002099  0.75\n",
      "2508  2016  11698864    16康美SCP002  600518  0.75\n",
      "2511  2016  11698867  16中通客车SCP001  000957  0.58\n",
      "2524  2016  11698881  16广安爱众SCP001  600979  0.75\n",
      "\n",
      "[229 rows x 5 columns]\n"
     ]
    }
   ],
   "source": [
    "# 数据清洗\n",
    "print('数据清洗')\n",
    "Bndinfo = pd.read_excel('BND_Bndinfo.xlsx')\n",
    "# 增加进度条\n",
    "for i in tqdm(range(int(9e6))):\n",
    "    pass\n",
    "\n",
    "# 筛选出A股上市公司债券\n",
    "Bndinfo  = Bndinfo.dropna(subset=['发行人股票代码'])\n",
    "# 添加上市公司证券代码\n",
    "Bndinfo['发行人股票代码'] = Bndinfo['发行人股票代码'].astype(int) # 去掉小数点\n",
    "Bndinfo['市场代码'] = Bndinfo['发行人股票代码'].astype(str)\n",
    "Bndinfo['市场代码'] = Bndinfo['市场代码'].str.zfill(6)\n",
    "# 提取year\n",
    "Bndinfo['年份'] = pd.to_datetime(Bndinfo['上市日期']).dt.year\n",
    "Bndinfo['年份'] = Bndinfo['年份'].astype(str)\n",
    "Bndinfo = Bndinfo[['年份','债券代码','债券简称','市场代码','期限']]\n",
    "Bndinfo.groupby(['年份','市场代码'])['债券代码'].count().mean()\n",
    "\n",
    "# 重复样本的处理\n",
    "print('重复样本的处理')\n",
    "# 增加进度条\n",
    "for i in tqdm(range(int(5e6))):\n",
    "    pass\n",
    "# 为数据集中的每个观测值生成一个介于0和1之间的随机数\n",
    "Bndinfo['rand'] = np.random.rand(len(Bndinfo))\n",
    "# 计算每个组中的最大随机数\n",
    "Bndinfo['max'] = Bndinfo.groupby(['市场代码', '年份'])['rand'].transform('max')\n",
    "# 保留只有最大随机数的观测值\n",
    "Bndinfo = Bndinfo[Bndinfo['max'] == Bndinfo['rand']]\n",
    "# 删除不再需要的列\n",
    "Bndinfo = Bndinfo.drop(['max', 'rand'], axis=1)\n",
    "\n",
    "print('数据清洗完毕')\n",
    "\n",
    "\n",
    "# 提取 \"Term\" 列\n",
    "Term = Bndinfo[['年份','期限']]\n",
    "# 删除重复观测值\n",
    "Term = Term.drop_duplicates()\n",
    "# 按照 \"Term\" 列进行排序\n",
    "Term = Term.sort_values('期限')\n",
    "Term = Term.dropna()\n",
    "\n",
    "print(Bndinfo)"
   ]
  },
  {
   "cell_type": "markdown",
   "metadata": {},
   "source": [
    "## 国债收益率插值计算"
   ]
  },
  {
   "cell_type": "code",
   "execution_count": 15,
   "metadata": {},
   "outputs": [
    {
     "name": "stdout",
     "output_type": "stream",
     "text": [
      "处理现有期限数据...\n",
      "插值中...\n",
      "      年份    期限  Treasury\n",
      "0   2014  0.08   3.58180\n",
      "1   2014  0.25   3.33220\n",
      "2   2014  0.42   3.26960\n",
      "3   2014  0.50   3.20700\n",
      "4   2014  0.75   3.23250\n",
      "5   2015  0.04   2.20170\n",
      "6   2015  0.08   2.20170\n",
      "7   2015  0.16   2.20330\n",
      "8   2015  0.17   2.20490\n",
      "9   2015  0.25   2.25070\n",
      "10  2015  0.27   2.25440\n",
      "11  2015  0.50   2.25810\n",
      "12  2015  0.58   2.26534\n",
      "13  2015  0.61   2.27258\n",
      "14  2015  0.67   2.27982\n",
      "15  2015  0.69   2.28706\n",
      "16  2015  0.75   2.29430\n",
      "17  2016  0.08   2.46570\n",
      "18  2016  0.17   2.61890\n",
      "19  2016  0.24   2.63315\n",
      "20  2016  0.25   2.64740\n",
      "21  2016  0.33   2.64790\n",
      "22  2016  0.42   2.64840\n",
      "23  2016  0.44   2.64890\n",
      "24  2016  0.50   2.64940\n",
      "25  2016  0.58   2.64945\n",
      "26  2016  0.67   2.64950\n",
      "27  2016  0.70   2.64955\n",
      "28  2016  0.72   2.64960\n",
      "29  2016  0.74   2.64965\n",
      "30  2016  0.75   2.64970\n",
      "31  2016  1.00   2.65030\n",
      "差值处理完成！\n"
     ]
    }
   ],
   "source": [
    "# 现有期限数据处理\n",
    "print('处理现有期限数据...')\n",
    "TreasYield = pd.read_excel(r'BND_TreasYield.xlsx')\n",
    "TreasYield['日期'] = pd.to_datetime(TreasYield['日期'])\n",
    "TreasYield['年份'] = TreasYield['日期'].dt.year\n",
    "TreasYield['年份'] = TreasYield['年份'].astype(str)\n",
    "\n",
    "# 处理重复债券\n",
    "TreasYield['max'] = TreasYield.groupby(['收益率曲线类型', '年份'])['日期'].transform('max')\n",
    "TreasYield = TreasYield[TreasYield['日期'] == TreasYield['max']]\n",
    "del TreasYield['max']\n",
    "del TreasYield['日期']\n",
    "TreasYield = TreasYield.rename(columns={'剩余年限':'期限'})\n",
    "\n",
    "# 插值\n",
    "print('插值中...')\n",
    "# 每个截面上需要的期限和已有期限数据进行合并\n",
    "Term = pd.merge(Term, TreasYield, on=['年份','期限'], how='left', sort=True)\n",
    "# 分组插值计算\n",
    "Term['Yield_1'] = Term.groupby('期限')['收益率(%)'].transform(lambda x: x.interpolate(method='linear'))\n",
    "Term['Yield_2'] = Term.groupby('年份')['Yield_1'].transform(lambda x: x.interpolate(method='linear'))\n",
    "# 保留所需的列\n",
    "Term = Term[['年份', '期限', 'Yield_2']]\n",
    "# 将小于等于0的值替换为缺失值\n",
    "Term.loc[Term['Yield_2'] <= 0, 'Yield_2'] = pd.NA\n",
    "# 删除重复观测值\n",
    "Term = Term.drop_duplicates(subset=['年份', '期限'], keep='first')\n",
    "# 重命名列\n",
    "Term = Term.rename(columns={'Yield_2': 'Treasury'})\n",
    "# 缺失值以组内最小值填充\n",
    "Term['Treasury'] = Term.groupby('年份')['Treasury'].transform(lambda x: x.fillna(x.min()))\n",
    "print(Term)\n",
    "print('差值处理完成！')\n"
   ]
  },
  {
   "cell_type": "markdown",
   "metadata": {},
   "source": [
    "### 债券年交易数据处理与到期收益率计算"
   ]
  },
  {
   "cell_type": "code",
   "execution_count": 17,
   "metadata": {},
   "outputs": [
    {
     "name": "stdout",
     "output_type": "stream",
     "text": [
      "债券信用利差计算-债券信用利差计算-债券信用利差计算-债券信用利差计算-债券信用利差计算-债券信用利差计算-债券信用利差计算\n"
     ]
    },
    {
     "ename": "ValueError",
     "evalue": "You are trying to merge on int64 and object columns. If you wish to proceed you should use pd.concat",
     "output_type": "error",
     "traceback": [
      "\u001b[1;31m---------------------------------------------------------------------------\u001b[0m",
      "\u001b[1;31mValueError\u001b[0m                                Traceback (most recent call last)",
      "\u001b[1;32m<ipython-input-17-33f34368f40e>\u001b[0m in \u001b[0;36m<module>\u001b[1;34m\u001b[0m\n\u001b[0;32m     11\u001b[0m \u001b[0mTradeinfo\u001b[0m\u001b[1;33m[\u001b[0m\u001b[1;34m'年份'\u001b[0m\u001b[1;33m]\u001b[0m \u001b[1;33m=\u001b[0m \u001b[0mTradeinfo\u001b[0m\u001b[1;33m[\u001b[0m\u001b[1;34m'年份'\u001b[0m\u001b[1;33m]\u001b[0m\u001b[1;33m.\u001b[0m\u001b[0mastype\u001b[0m\u001b[1;33m(\u001b[0m\u001b[0mstr\u001b[0m\u001b[1;33m)\u001b[0m\u001b[1;33m\u001b[0m\u001b[1;33m\u001b[0m\u001b[0m\n\u001b[0;32m     12\u001b[0m \u001b[1;31m# 与债券基本情况数据合并\u001b[0m\u001b[1;33m\u001b[0m\u001b[1;33m\u001b[0m\u001b[1;33m\u001b[0m\u001b[0m\n\u001b[1;32m---> 13\u001b[1;33m \u001b[0mdf\u001b[0m \u001b[1;33m=\u001b[0m \u001b[0mpd\u001b[0m\u001b[1;33m.\u001b[0m\u001b[0mmerge\u001b[0m\u001b[1;33m(\u001b[0m\u001b[0mBndinfo\u001b[0m\u001b[1;33m,\u001b[0m \u001b[0mTradeinfo\u001b[0m\u001b[1;33m,\u001b[0m \u001b[0mon\u001b[0m\u001b[1;33m=\u001b[0m\u001b[1;33m[\u001b[0m\u001b[1;34m'债券代码'\u001b[0m\u001b[1;33m,\u001b[0m\u001b[1;34m'年份'\u001b[0m\u001b[1;33m]\u001b[0m\u001b[1;33m,\u001b[0m \u001b[0mhow\u001b[0m\u001b[1;33m=\u001b[0m\u001b[1;34m'left'\u001b[0m\u001b[1;33m,\u001b[0m \u001b[0msort\u001b[0m\u001b[1;33m=\u001b[0m\u001b[1;32mTrue\u001b[0m\u001b[1;33m)\u001b[0m\u001b[1;33m\u001b[0m\u001b[1;33m\u001b[0m\u001b[0m\n\u001b[0m\u001b[0;32m     14\u001b[0m \u001b[0mdf\u001b[0m \u001b[1;33m=\u001b[0m \u001b[0mdf\u001b[0m\u001b[1;33m[\u001b[0m\u001b[0mdf\u001b[0m\u001b[1;33m[\u001b[0m\u001b[1;34m'年份'\u001b[0m\u001b[1;33m]\u001b[0m\u001b[1;33m>=\u001b[0m\u001b[1;36m2010\u001b[0m\u001b[1;33m]\u001b[0m\u001b[1;33m\u001b[0m\u001b[1;33m\u001b[0m\u001b[0m\n\u001b[0;32m     15\u001b[0m \u001b[1;33m\u001b[0m\u001b[0m\n",
      "\u001b[1;32me:\\Anaconda\\lib\\site-packages\\pandas\\core\\reshape\\merge.py\u001b[0m in \u001b[0;36mmerge\u001b[1;34m(left, right, how, on, left_on, right_on, left_index, right_index, sort, suffixes, copy, indicator, validate)\u001b[0m\n\u001b[0;32m    117\u001b[0m         \u001b[0mcopy\u001b[0m\u001b[1;33m=\u001b[0m\u001b[0mcopy\u001b[0m\u001b[1;33m,\u001b[0m\u001b[1;33m\u001b[0m\u001b[1;33m\u001b[0m\u001b[0m\n\u001b[0;32m    118\u001b[0m         \u001b[0mindicator\u001b[0m\u001b[1;33m=\u001b[0m\u001b[0mindicator\u001b[0m\u001b[1;33m,\u001b[0m\u001b[1;33m\u001b[0m\u001b[1;33m\u001b[0m\u001b[0m\n\u001b[1;32m--> 119\u001b[1;33m         \u001b[0mvalidate\u001b[0m\u001b[1;33m=\u001b[0m\u001b[0mvalidate\u001b[0m\u001b[1;33m,\u001b[0m\u001b[1;33m\u001b[0m\u001b[1;33m\u001b[0m\u001b[0m\n\u001b[0m\u001b[0;32m    120\u001b[0m     )\n\u001b[0;32m    121\u001b[0m     \u001b[1;32mreturn\u001b[0m \u001b[0mop\u001b[0m\u001b[1;33m.\u001b[0m\u001b[0mget_result\u001b[0m\u001b[1;33m(\u001b[0m\u001b[1;33m)\u001b[0m\u001b[1;33m\u001b[0m\u001b[1;33m\u001b[0m\u001b[0m\n",
      "\u001b[1;32me:\\Anaconda\\lib\\site-packages\\pandas\\core\\reshape\\merge.py\u001b[0m in \u001b[0;36m__init__\u001b[1;34m(self, left, right, how, on, left_on, right_on, axis, left_index, right_index, sort, suffixes, copy, indicator, validate)\u001b[0m\n\u001b[0;32m    701\u001b[0m         \u001b[1;31m# validate the merge keys dtypes. We may need to coerce\u001b[0m\u001b[1;33m\u001b[0m\u001b[1;33m\u001b[0m\u001b[1;33m\u001b[0m\u001b[0m\n\u001b[0;32m    702\u001b[0m         \u001b[1;31m# to avoid incompatible dtypes\u001b[0m\u001b[1;33m\u001b[0m\u001b[1;33m\u001b[0m\u001b[1;33m\u001b[0m\u001b[0m\n\u001b[1;32m--> 703\u001b[1;33m         \u001b[0mself\u001b[0m\u001b[1;33m.\u001b[0m\u001b[0m_maybe_coerce_merge_keys\u001b[0m\u001b[1;33m(\u001b[0m\u001b[1;33m)\u001b[0m\u001b[1;33m\u001b[0m\u001b[1;33m\u001b[0m\u001b[0m\n\u001b[0m\u001b[0;32m    704\u001b[0m \u001b[1;33m\u001b[0m\u001b[0m\n\u001b[0;32m    705\u001b[0m         \u001b[1;31m# If argument passed to validate,\u001b[0m\u001b[1;33m\u001b[0m\u001b[1;33m\u001b[0m\u001b[1;33m\u001b[0m\u001b[0m\n",
      "\u001b[1;32me:\\Anaconda\\lib\\site-packages\\pandas\\core\\reshape\\merge.py\u001b[0m in \u001b[0;36m_maybe_coerce_merge_keys\u001b[1;34m(self)\u001b[0m\n\u001b[0;32m   1254\u001b[0m                     \u001b[0minferred_right\u001b[0m \u001b[1;32min\u001b[0m \u001b[0mstring_types\u001b[0m \u001b[1;32mand\u001b[0m \u001b[0minferred_left\u001b[0m \u001b[1;32mnot\u001b[0m \u001b[1;32min\u001b[0m \u001b[0mstring_types\u001b[0m\u001b[1;33m\u001b[0m\u001b[1;33m\u001b[0m\u001b[0m\n\u001b[0;32m   1255\u001b[0m                 ):\n\u001b[1;32m-> 1256\u001b[1;33m                     \u001b[1;32mraise\u001b[0m \u001b[0mValueError\u001b[0m\u001b[1;33m(\u001b[0m\u001b[0mmsg\u001b[0m\u001b[1;33m)\u001b[0m\u001b[1;33m\u001b[0m\u001b[1;33m\u001b[0m\u001b[0m\n\u001b[0m\u001b[0;32m   1257\u001b[0m \u001b[1;33m\u001b[0m\u001b[0m\n\u001b[0;32m   1258\u001b[0m             \u001b[1;31m# datetimelikes must match exactly\u001b[0m\u001b[1;33m\u001b[0m\u001b[1;33m\u001b[0m\u001b[1;33m\u001b[0m\u001b[0m\n",
      "\u001b[1;31mValueError\u001b[0m: You are trying to merge on int64 and object columns. If you wish to proceed you should use pd.concat"
     ]
    }
   ],
   "source": [
    "\n",
    "print('债券信用利差计算-债券信用利差计算-债券信用利差计算-债券信用利差计算-债券信用利差计算-债券信用利差计算-债券信用利差计算')\n",
    "\n",
    "Tradeinfo = pd.read_excel(r'BND_Bndyt.xlsx')\n",
    "Tradeinfo = Tradeinfo.rename(columns={'交易年份':'年份'})\n",
    "# 删除重复观测值\n",
    "Tradeinfo = Tradeinfo.drop_duplicates(subset=[\"债券代码\", \"年份\"], keep=\"first\")\n",
    "Tradeinfo = Tradeinfo[['债券代码','年份','年收盘日到期收益率(%)']] # Clsyield：收盘日到期收益率\n",
    "# 数据类型转换，以便合并\n",
    "Tradeinfo['债券代码'] = Tradeinfo['债券代码'].astype(str)\n",
    "Tradeinfo['年份'] = Tradeinfo['年份'].astype(str)\n",
    "# 与债券基本情况数据合并\n",
    "df = pd.merge(Bndinfo, Tradeinfo, on=['债券代码','年份'], how='left', sort=True)\n",
    "df = df[df['年份']>=2010]\n",
    "\n",
    "### <b>债券信用利差计算</b>\n",
    "#  截尾操作\n",
    "## 年收盘日到期收益率(%),交易市场代码\n",
    "df['YTM_1'] = df['年收盘日到期收益率(%)'].clip(lower=np.percentile(df['年收盘日到期收益率(%)'], 1))\n",
    "# 替换小于等于0的值为缺失值\n",
    "df.loc[df['YTM_1'] <= 0, 'YTM_1'] = np.nan\n",
    "# 计算每个组的均值\n",
    "df['YTM_2'] = df.groupby('债券代码')['YTM_1'].transform('mean')\n",
    "df['YTM_3'] = df.groupby('交易市场代码')['YTM_2'].transform('mean')\n",
    "df['YTM_4'] = df.groupby('年份')['YTM_3'].transform('mean')\n",
    "# 创建新变量并填充缺失值\n",
    "df['YTM'] = np.nan\n",
    "for x in range(1, 5):\n",
    "    df.loc[df['YTM'].isnull(), 'YTM'] = df[f'YTM_{x}']\n",
    "print(df['YTM'])\n",
    "df = df[['债券代码','年份','债券简称','市场代码','期限','YTM']]\n",
    "# 合并国债收益率插值结果\n",
    "df = pd.merge(df, Term, on=['期限','年份'], how='left', sort=True)\n",
    "# 作差计算CS\n",
    "df['CS'] = df['YTM'] - df['Treasury']\n",
    "# 负值和零值处理（组内最小值填充）\n",
    "df.loc[df['CS'] <= 0, 'CS'] = np.nan\n",
    "df['CS'] = df.groupby('年份')['CS'].transform(lambda x: x.fillna(x.min()))\n",
    "print(df['CS'])\n",
    "print('债券信用利差计算完成！')"
   ]
  },
  {
   "cell_type": "markdown",
   "metadata": {},
   "source": []
  }
 ],
 "metadata": {
  "kernelspec": {
   "display_name": "work",
   "language": "python",
   "name": "python3"
  },
  "language_info": {
   "codemirror_mode": {
    "name": "ipython",
    "version": 3
   },
   "file_extension": ".py",
   "mimetype": "text/x-python",
   "name": "python",
   "nbconvert_exporter": "python",
   "pygments_lexer": "ipython3",
   "version": "3.7.3"
  }
 },
 "nbformat": 4,
 "nbformat_minor": 2
}
