{
 "cells": [
  {
   "cell_type": "markdown",
   "metadata": {},
   "source": [
    "#### 任务一_填充缺失字段"
   ]
  },
  {
   "cell_type": "code",
   "execution_count": null,
   "metadata": {},
   "outputs": [],
   "source": [
    "# 安装库\n",
    "pip install pandas -i https://pypi.tuna.tsinghua.edu.cn/simple"
   ]
  },
  {
   "cell_type": "code",
   "execution_count": null,
   "metadata": {},
   "outputs": [],
   "source": [
    "import pandas as pd  \n",
    "\n",
    "# 指定文件路径  \n",
    "file_path = r'结果表.xlsx'  \n",
    "  \n",
    "# 加载Excel文件  \n",
    "df = pd.read_excel(file_path)  \n",
    "  \n",
    "# 填充'证券代码'列，使用前向填充（ffill）  \n",
    "df['证券代码'] = df['证券代码'].ffill()  \n",
    "df['公司全称'] = df['公司全称'].ffill()  \n",
    "df['所在行业'] = df['所在行业'].ffill()  \n",
    "df['是否纳入'] = df['是否纳入'].ffill()  \n",
    "# 保存更改而不修改原始DataFrame  \n",
    "df_filled = df.copy()  # 创建一个副本  \n",
    "df_filled.to_excel('data_filled.xlsx', index=False)  # 保存填充后的副本"
   ]
  },
  {
   "cell_type": "markdown",
   "metadata": {},
   "source": [
    "### 任务二_合并表1和表2"
   ]
  },
  {
   "cell_type": "code",
   "execution_count": null,
   "metadata": {},
   "outputs": [],
   "source": [
    "import pandas as pd\n",
    "\n",
    "# 加载第一个文件\n",
    "df2 = pd.read_excel('./data_filled.xlsx')\n",
    "# 证券代码\n",
    "\n",
    "# 加载第二个文件\n",
    "df1 = pd.read_excel('结果.xlsx')\n",
    "# 证券代码 统计截止日期\n",
    "\n",
    "# 合并数据集\n",
    "df = df1.merge(df2, on=['证券代码', '统计截止日期'], how='inner')\n",
    "\n",
    "df.to_excel('merged_data.xlsx')\n"
   ]
  },
  {
   "cell_type": "markdown",
   "metadata": {},
   "source": [
    "### 任务三_合并最终结果表"
   ]
  },
  {
   "cell_type": "code",
   "execution_count": null,
   "metadata": {},
   "outputs": [],
   "source": [
    "import pandas as pd  \n",
    "  \n",
    "# 读取两个Excel文件  \n",
    "df1 = pd.read_excel('merged_data.xlsx')  \n",
    "df2 = pd.read_excel('data-1.xlsx')  \n",
    "  \n",
    "# 使用merge函数合并两个DataFrame  \n",
    "# how='left'表示左连接，即保留df1中的所有行，即使df2中没有匹配的行  \n",
    "merged_df = pd.merge(df1, df2[['证券代码', '统计截止日期', '经营现金流比例_y', '销售收入增长率_y']],  \n",
    "                     on=['证券代码', '统计截止日期'], how='left')  \n",
    "\n",
    "# 保存合并后的DataFrame到新的Excel文件  \n",
    "merged_df.to_excel('merged_data_with_additional_info.xlsx', index=False)"
   ]
  },
  {
   "cell_type": "markdown",
   "metadata": {},
   "source": [
    "### 任务四_优化结果"
   ]
  },
  {
   "cell_type": "code",
   "execution_count": null,
   "metadata": {},
   "outputs": [],
   "source": [
    "import pandas as pd\n",
    "\n",
    "df = pd.read_excel('merged_data_with_additional_info.xlsx')\n",
    "\n",
    "df['证券代码'] = df['证券代码'].astype(str).str.zfill(6)\n",
    "\n",
    "df.to_excel('merged_data_with_additional_info_filled_code.xlsx', index=False)\n"
   ]
  },
  {
   "cell_type": "markdown",
   "metadata": {},
   "source": []
  }
 ],
 "metadata": {
  "language_info": {
   "name": "python"
  }
 },
 "nbformat": 4,
 "nbformat_minor": 2
}
