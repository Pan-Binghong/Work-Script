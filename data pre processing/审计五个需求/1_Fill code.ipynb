{
 "cells": [
  {
   "cell_type": "markdown",
   "metadata": {},
   "source": [
    "### 任务一_填充证券代码列"
   ]
  },
  {
   "cell_type": "code",
   "execution_count": null,
   "metadata": {},
   "outputs": [],
   "source": [
    "import pandas as pd\n",
    "\n",
    "# 从指定路径读取Excel文件\n",
    "file_path = r'E:\\Work-Script\\data pre processing\\审计五个需求\\data.xlsx'\n",
    "\n",
    "# 读取Excel文件内容到DataFrame\n",
    "df = pd.read_excel(file_path)\n",
    "\n",
    "# 使用groupby和transform填充缺失的'证券代码1'，填充值为同一公司全称下的第一个'证券代码1'的值\n",
    "df['证券代码1'] = df.groupby('公司全称')['证券代码1'].transform('first')\n",
    "\n",
    "# 打印填充后的DataFrame\n",
    "print(df)\n",
    "\n",
    "# 如果需要，将填充后的数据保存回Excel文件中\n",
    "df.to_excel('filled_data.xlsx', index=False)"
   ]
  },
  {
   "cell_type": "markdown",
   "metadata": {},
   "source": [
    "### 任务二_数据(针对2008年)的清洗去重"
   ]
  },
  {
   "cell_type": "code",
   "execution_count": null,
   "metadata": {},
   "outputs": [],
   "source": [
    "# 从指定路径读取Excel文件\n",
    "file_path = r'E:\\Work-Script\\data pre processing\\审计五个需求\\filled_data.xlsx'\n",
    "\n",
    "# 读取Excel文件\n",
    "df = pd.read_excel(file_path)\n",
    "\n",
    "# 检查是否会计截止日期连续重复\n",
    "consecutive_duplicates = df['会计截止日期'].eq(df['会计截止日期'].shift(-1))\n",
    "\n",
    "# 删除标记为True的行\n",
    "df = df[~consecutive_duplicates]\n",
    "\n",
    "# 打印处理后的数据框\n",
    "print(df)\n",
    "\n",
    "# 保存到新的Excel文件\n",
    "df.to_excel('delete_2008.xlsx', index=False)"
   ]
  },
  {
   "cell_type": "markdown",
   "metadata": {},
   "source": [
    "### 任务三_意见分类"
   ]
  },
  {
   "cell_type": "code",
   "execution_count": null,
   "metadata": {},
   "outputs": [],
   "source": [
    "# 从指定路径读取Excel文件\n",
    "file_path = r'E:\\Work-Script\\data pre processing\\审计五个需求\\delete_2008.xlsx'\n",
    "\n",
    "# 读取Excel文件\n",
    "df = pd.read_excel(file_path)\n",
    "\n",
    "# 创建一个映射，将'审计意见类型'映射到0和1\n",
    "opinion_mapping = {\n",
    "    '标准无保留意见': 0,\n",
    "    '保留意见': 1,\n",
    "    '保留意见加事项段': 1,\n",
    "    '否定意见': 1,\n",
    "    '没有单位': 1,\n",
    "    '无保留意见加事项段': 1,\n",
    "    '无发表意见': 1\n",
    "}\n",
    "\n",
    "# 使用map函数将映射应用到'审计意见类型'列，并将结果赋值给'上期审计意见'列\n",
    "df['上期审计意见'] = df['审计意见类型'].map(opinion_mapping)\n",
    "\n",
    "# 打印处理后的数据框\n",
    "print(df)\n",
    "\n",
    "# 保存到新的Excel文件\n",
    "df.to_excel('opinion_categorization.xlsx', index=False)"
   ]
  },
  {
   "cell_type": "markdown",
   "metadata": {},
   "source": [
    "### 任务四_计算业务复杂度"
   ]
  },
  {
   "cell_type": "code",
   "execution_count": null,
   "metadata": {},
   "outputs": [],
   "source": [
    "# 从指定路径读取Excel文件\n",
    "file_path = r'E:\\Work-Script\\data pre processing\\审计五个需求\\业务复杂度.xlsx'\n",
    "\n",
    "# 读取Excel文件\n",
    "df = pd.read_excel(file_path)\n",
    "\n",
    "# 删除包含空值的行\n",
    "df = df.dropna(subset=['应收款项融资', '存货净额', '资产总计'])\n",
    "\n",
    "# 如果有其他复杂的计算公式，请替换下面的代码\n",
    "df['业务复杂度'] = df['应收款项融资'] + df['存货净额'] + df['资产总计']\n",
    "\n",
    "# 打印处理后的数据框\n",
    "print(df)\n",
    "\n",
    "# 保存到新的Excel文件\n",
    "df.to_excel('service_complexity.xlsx', index=False)\n"
   ]
  },
  {
   "cell_type": "code",
   "execution_count": 33,
   "metadata": {},
   "outputs": [],
   "source": [
    "import pandas as pd\n",
    "\n",
    "# 定义源文件和目标文件的路径\n",
    "src_path = r'service_complexity.xlsx'\n",
    "dst_path = r'opinion_categorization.xlsx'\n",
    "\n",
    "# 读取源文件和目标文件\n",
    "df_source = pd.read_excel(src_path)\n",
    "df_target = pd.read_excel(dst_path)\n",
    "\n",
    "# 将'证券代码'和'证券代码1'列转换为字符串类型，以确保数据类型一致\n",
    "df_source['证券代码'] = df_source['证券代码'].astype(str)\n",
    "df_target['证券代码1'] = df_target['证券代码1'].astype(str)\n",
    "\n",
    "# 确保列名匹配，这里假设源文件的'证券代码'和'统计截止日期'分别对应目标文件的'证券代码1'和'会计截止日期'\n",
    "df_source = df_source.rename(columns={'证券代码': '证券代码1', '统计截止日期': '会计截止日期'})\n",
    "\n",
    "# 合并数据\n",
    "# 根据证券代码和日期合并，这里使用inner join，只有当两个文件都有匹配的代码和日期时才合并\n",
    "df_merged = pd.merge(df_target, df_source[['证券代码1', '会计截止日期', '业务复杂度']], on=['证券代码1', '会计截止日期'], how='inner')\n",
    "\n",
    "# 保存到新的Excel文件\n",
    "df_merged.to_excel('merged_file.xlsx', index=False)\n"
   ]
  },
  {
   "cell_type": "markdown",
   "metadata": {},
   "source": [
    "### 任务五_计算经营现金流比例和销售增长率"
   ]
  },
  {
   "cell_type": "markdown",
   "metadata": {},
   "source": [
    "### 任务六_日期整理"
   ]
  }
 ],
 "metadata": {
  "kernelspec": {
   "display_name": "base",
   "language": "python",
   "name": "python3"
  },
  "language_info": {
   "codemirror_mode": {
    "name": "ipython",
    "version": 3
   },
   "file_extension": ".py",
   "mimetype": "text/x-python",
   "name": "python",
   "nbconvert_exporter": "python",
   "pygments_lexer": "ipython3",
   "version": "3.7.3"
  }
 },
 "nbformat": 4,
 "nbformat_minor": 2
}
