{
 "cells": [
  {
   "cell_type": "code",
   "execution_count": 48,
   "metadata": {},
   "outputs": [],
   "source": [
    "import pandas as pd\n",
    "import json\n",
    "import re"
   ]
  },
  {
   "cell_type": "code",
   "execution_count": 55,
   "metadata": {},
   "outputs": [],
   "source": [
    "# 从'mac address.csv'文件中读取数据并存储到mac_address变量中\n",
    "mac_address = pd.read_csv('mac address.csv')\n",
    "\n",
    "# 使用前向填充方法填充'Mac Metal Service Name'列中的缺失值\n",
    "mac_address['Bare metal service name'] = mac_address['Bare metal service name'].fillna(method='ffill')\n",
    "\n",
    "# 创建字典存储每个服务器名称对应的四个mac地址\n",
    "mac_dict = mac_address.groupby('Bare metal service name')['Mac address'].apply(list).to_dict()\n",
    "with open('mac_dict.json', 'w') as f:\n",
    "    json.dump(mac_dict, f)"
   ]
  },
  {
   "cell_type": "code",
   "execution_count": 56,
   "metadata": {},
   "outputs": [
    {
     "name": "stdout",
     "output_type": "stream",
     "text": [
      "<class 'list'>\n"
     ]
    }
   ],
   "source": [
    "def find_mac():\n",
    "    pass\n",
    "\n",
    "df = pd.read_csv('test.csv')\n",
    "\n",
    "df_warning = df[(df['Severity'] == 'Warning') & (df['Event Name'] == 'Link is Down')]\n",
    "\n",
    "# 匹配出Souce列的mac地址数据\n",
    "# Source fxxx  TO Dest: fxxxxx\n",
    "# Source xxxx  TO Dest: xxxxxx\n",
    "\n",
    "pattern = re.compile(r'Source\\s+([a-fA-F0-9]+)')\n",
    "\n",
    "mac_list = []\n",
    "for source in df_warning['Source']:\n",
    "    match = pattern.search(source)\n",
    "    if match:\n",
    "        mac_list.append(match.group(1))\n",
    "\n"
   ]
  },
  {
   "cell_type": "code",
   "execution_count": 57,
   "metadata": {},
   "outputs": [
    {
     "data": {
      "text/html": [
       "<div>\n",
       "<style scoped>\n",
       "    .dataframe tbody tr th:only-of-type {\n",
       "        vertical-align: middle;\n",
       "    }\n",
       "\n",
       "    .dataframe tbody tr th {\n",
       "        vertical-align: top;\n",
       "    }\n",
       "\n",
       "    .dataframe thead th {\n",
       "        text-align: right;\n",
       "    }\n",
       "</style>\n",
       "<table border=\"1\" class=\"dataframe\">\n",
       "  <thead>\n",
       "    <tr style=\"text-align: right;\">\n",
       "      <th></th>\n",
       "      <th>Service Name</th>\n",
       "      <th>Count of Link is Down</th>\n",
       "    </tr>\n",
       "  </thead>\n",
       "  <tbody>\n",
       "    <tr>\n",
       "      <th>0</th>\n",
       "      <td>H800-4</td>\n",
       "      <td>5</td>\n",
       "    </tr>\n",
       "    <tr>\n",
       "      <th>1</th>\n",
       "      <td>H800-26</td>\n",
       "      <td>3</td>\n",
       "    </tr>\n",
       "    <tr>\n",
       "      <th>2</th>\n",
       "      <td>H800-32</td>\n",
       "      <td>4</td>\n",
       "    </tr>\n",
       "    <tr>\n",
       "      <th>3</th>\n",
       "      <td>H800-24</td>\n",
       "      <td>1</td>\n",
       "    </tr>\n",
       "    <tr>\n",
       "      <th>4</th>\n",
       "      <td>H800-28</td>\n",
       "      <td>12</td>\n",
       "    </tr>\n",
       "  </tbody>\n",
       "</table>\n",
       "</div>"
      ],
      "text/plain": [
       "  Service Name  Count of Link is Down\n",
       "0       H800-4                      5\n",
       "1      H800-26                      3\n",
       "2      H800-32                      4\n",
       "3      H800-24                      1\n",
       "4      H800-28                     12"
      ]
     },
     "execution_count": 57,
     "metadata": {},
     "output_type": "execute_result"
    }
   ],
   "source": [
    "def find_service_names_and_counts(mac_list, mac_dict):  \n",
    "    # 创建一个字典来记录每个服务名称的linkdown次数  \n",
    "    service_counts = {}  \n",
    "      \n",
    "    # 遍历mac_list中的每个MAC地址  \n",
    "    for mac in mac_list:  \n",
    "        # 查找MAC地址在哪个服务名称的列表中  \n",
    "        for service_name, macs in mac_dict.items():  \n",
    "            if mac in macs:  \n",
    "                # 如果找到，增加该服务名称的计数  \n",
    "                service_counts[service_name] = service_counts.get(service_name, 0) + 1  \n",
    "                break  # 跳出内部循环，因为每个MAC地址只应对应一个服务名称  \n",
    "    df_result = pd.DataFrame.from_dict(service_counts, orient='index', columns=['Count of Link is Down']).reset_index()  \n",
    "    df_result.columns = ['Service Name', 'Count of Link is Down']  \n",
    "    return df_result  \n",
    "\n",
    "df_result = find_service_names_and_counts(mac_list, mac_dict)\n",
    "\n",
    "df_result"
   ]
  },
  {
   "cell_type": "code",
   "execution_count": null,
   "metadata": {},
   "outputs": [],
   "source": []
  }
 ],
 "metadata": {
  "kernelspec": {
   "display_name": "base",
   "language": "python",
   "name": "python3"
  },
  "language_info": {
   "codemirror_mode": {
    "name": "ipython",
    "version": 3
   },
   "file_extension": ".py",
   "mimetype": "text/x-python",
   "name": "python",
   "nbconvert_exporter": "python",
   "pygments_lexer": "ipython3",
   "version": "3.7.3"
  }
 },
 "nbformat": 4,
 "nbformat_minor": 2
}
